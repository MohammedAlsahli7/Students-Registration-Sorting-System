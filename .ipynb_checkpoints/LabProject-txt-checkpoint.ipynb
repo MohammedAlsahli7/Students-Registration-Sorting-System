{
 "cells": [
  {
   "cell_type": "code",
   "execution_count": 4,
   "metadata": {},
   "outputs": [],
   "source": [
    "import random\n",
    "import string\n",
    "file = open(\"LabProject.txt\",\"w\")\n",
    "letters = string.ascii_letters\n",
    "midlist = []\n",
    "claslist = []\n",
    "finallist = []\n",
    "abcslist = []\n",
    "while len(midlist) != 100:\n",
    "    letters = string.digits\n",
    "    mid = ''.join(random.choice(letters) for i in range(2))\n",
    "    if float(mid) <=35 :\n",
    "        midlist.append(float(mid))\n",
    "        \n",
    "while len(claslist) != 100:\n",
    "    letters = string.digits\n",
    "    clas = ''.join(random.choice(letters) for i in range(2))\n",
    "    if float(clas) <=25 :\n",
    "        claslist.append(float(clas))\n",
    "        \n",
    "while len(finallist) != 100:\n",
    "    letters = string.digits\n",
    "    final = ''.join(random.choice(letters) for i in range(2))\n",
    "    if float(final) <=40 :\n",
    "        finallist.append(float(final))\n",
    "        \n",
    "while len(abcslist) != 100:\n",
    "    letters = string.digits\n",
    "    abcs = ''.join(random.choice(letters) for i in range(2))\n",
    "    if float(abcs) <=15 :\n",
    "        abcslist.append(abcs)\n",
    "\n",
    "for i in range(100):\n",
    "    letters = string.digits\n",
    "    file.write( ''.join(random.choice(letters) for i in range(9)) )\n",
    "    \n",
    "    letters = string.ascii_letters\n",
    "    file.write(\":\"+''.join(random.choice(letters) for i in range(10))) \n",
    "    \n",
    "    file.write(\":\"+abcslist[i])\n",
    "\n",
    "    file.write(\":\"+str(midlist[i]))\n",
    "    \n",
    "    file.write(\":\"+str(claslist[i]))\n",
    "    \n",
    "    file.write(\":\"+str(finallist[i]))\n",
    "    \n",
    "    \n",
    "    file.write(\"\\n\")\n",
    "\n",
    "file.close()"
   ]
  },
  {
   "cell_type": "code",
   "execution_count": null,
   "metadata": {},
   "outputs": [],
   "source": []
  }
 ],
 "metadata": {
  "kernelspec": {
   "display_name": "Python 3",
   "language": "python",
   "name": "python3"
  },
  "language_info": {
   "codemirror_mode": {
    "name": "ipython",
    "version": 3
   },
   "file_extension": ".py",
   "mimetype": "text/x-python",
   "name": "python",
   "nbconvert_exporter": "python",
   "pygments_lexer": "ipython3",
   "version": "3.8.3"
  }
 },
 "nbformat": 4,
 "nbformat_minor": 4
}
